{
 "cells": [
  {
   "cell_type": "code",
   "execution_count": null,
   "id": "96771614",
   "metadata": {},
   "outputs": [],
   "source": [
    "import pandas as pf\n",
    "from data_func import *\n",
    "\n",
    "data_raw = pd.read_excel(\"MasterData.xlsx\")\n",
    "\n",
    "cleaned_data = prepare_merit(data_raw)"
   ]
  },
  {
   "cell_type": "code",
   "execution_count": null,
   "id": "e8cb4ae0",
   "metadata": {},
   "outputs": [],
   "source": [
    "cleaned_data[\"CSE\"] = 0\n",
    "cleaned_data[\"CSE(D)\"] = 0\n",
    "cleaned_data[\"CCE\"] = 0\n",
    "cleaned_data[\"ECE\"] = 0\n",
    "cleaned_data[\"ECE(D)\"] = 0\n",
    "cleaned_data[\"ME\"] = 0\n",
    "cleaned_data[\"LICAI(AI)\"] = 0\n",
    "cleaned_data[\"LICAI(DS)\"] = 0\n",
    "# Target allocation Counts\n",
    "allocation_targets = {\n",
    "    \"CSE\": 1000,\n",
    "    \"CSE(D)\": 100,\n",
    "    \"CCE\": 100,\n",
    "    \"ECE\": 100,\n",
    "    \"ECE(D)\": 100,\n",
    "    \"ME\": 100,\n",
    "    \"LICAI(AI)\": 100,\n",
    "    \"LICAI(DS)\": 100,\n",
    "}\n",
    "allocation_save = allocation_targets.copy()\n",
    "allocation_data = allocate_branches(cleaned_data, allocation_targets)\n",
    "print(\"Total applicants =\", len(allocation_data))\n",
    "print(\n",
    "    \"Total allocation = \",\n",
    "    len(allocation_data[allocation_data[\"ALLOCATED\"].notna()]),\n",
    ")\n",
    "print(\n",
    "    \"Total Remaining = \",\n",
    "    len(allocation_data[allocation_data[\"ALLOCATED\"].isna()]),\n",
    "    \"\\n\",\n",
    ")\n",
    "\n",
    "display(allocation_data)"
   ]
  },
  {
   "cell_type": "code",
   "execution_count": null,
   "id": "ec29a2bd",
   "metadata": {},
   "outputs": [],
   "source": [
    "save_data(allocation_data, data_raw, allocation_save)  # type: ignore"
   ]
  }
 ],
 "metadata": {
  "kernelspec": {
   "display_name": "Python 3",
   "language": "python",
   "name": "python3"
  },
  "language_info": {
   "codemirror_mode": {
    "name": "ipython",
    "version": 3
   },
   "file_extension": ".py",
   "mimetype": "text/x-python",
   "name": "python",
   "nbconvert_exporter": "python",
   "pygments_lexer": "ipython3",
   "version": "3.12.1"
  }
 },
 "nbformat": 4,
 "nbformat_minor": 5
}
